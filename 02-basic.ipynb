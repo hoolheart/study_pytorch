{
 "cells": [
  {
   "cell_type": "markdown",
   "metadata": {},
   "source": [
    "# PyTorch基础\n",
    "\n",
    "作为深度学习的框架，PyTorch的数据基础便是张量`tensor`类，这一点和Tensorflow、MxNet是一致的。"
   ]
  },
  {
   "cell_type": "code",
   "execution_count": 1,
   "metadata": {},
   "outputs": [
    {
     "name": "stdout",
     "output_type": "stream",
     "text": [
      "Import PyTorch V1.12.1\n"
     ]
    }
   ],
   "source": [
    "import os\n",
    "import sys\n",
    "\n",
    "import numpy as np\n",
    "import pandas as pd\n",
    "import matplotlib.pyplot as plt\n",
    "\n",
    "import torch\n",
    "print(f'Import PyTorch V{torch.__version__}')"
   ]
  },
  {
   "cell_type": "markdown",
   "metadata": {},
   "source": [
    "## 创建张量\n",
    "\n",
    "和其他科学计算库一样，PyTorch提供了很快快捷的创建张量函数，不同的函数生成数据的逻辑不同，但输入的参数一般包括形状、数据类型和存在的设备平台。\n",
    "\n",
    "主要的创建函数包括：\n",
    "\n",
    "- `empty`：创建过程不对数据进行初始化，申请的内存空间是什么就是什么；\n",
    "- `zeros`：数据初始化为0；\n",
    "- `ones`：数据初始化为1；\n",
    "- `rand`：数据按照0到1之间的平均分布随机初始化；\n",
    "- `randn`：数据按照正态分布随机初始化，正态分布的默认均值为0，标准差为1。"
   ]
  },
  {
   "cell_type": "code",
   "execution_count": 2,
   "metadata": {},
   "outputs": [
    {
     "name": "stdout",
     "output_type": "stream",
     "text": [
      "empty, (2,), torch.float64, cpu\n",
      "tensor([7.5657e-307, 4.0054e-307], dtype=torch.float64)\n",
      "\n",
      "zeros, (1, 3), torch.float32, cpu\n",
      "tensor([[0., 0., 0.]])\n",
      "\n",
      "ones, (2, 1, 3), torch.int32, cuda\n",
      "tensor([[[1, 1, 1]],\n",
      "\n",
      "        [[1, 1, 1]]], device='cuda:0', dtype=torch.int32)\n",
      "\n",
      "rand, (2, 2), torch.float64, cuda\n",
      "tensor([[0.7521, 0.7281],\n",
      "        [0.4589, 0.4376]], device='cuda:0', dtype=torch.float64)\n",
      "\n",
      "randn, (4, 4), torch.float64, cpu\n",
      "tensor([[-1.0218,  0.3259,  0.6338, -0.9613],\n",
      "        [ 0.3029, -0.2843,  0.5592,  0.8057],\n",
      "        [-1.5108,  0.3070,  0.5089,  0.1312],\n",
      "        [-0.7727, -0.0278,  0.2772, -1.6303]], dtype=torch.float64)\n",
      "\n"
     ]
    }
   ],
   "source": [
    "dev1 = torch.device('cpu')\n",
    "dev2 = torch.device('cuda' if torch.cuda.is_available() else 'cpu')\n",
    "\n",
    "for func_name, shape, dtype, dev in [\n",
    "    ('empty', (2,), torch.double, dev1),\n",
    "    ('zeros', (1, 3), torch.float32, dev1),\n",
    "    ('ones', (2, 1, 3), torch.int, dev2),\n",
    "    ('rand', (2, 2), torch.double, dev2),\n",
    "    ('randn', (4, 4), torch.float64, dev1),\n",
    "]:\n",
    "    func = getattr(torch, func_name)\n",
    "    t = func(size=shape, dtype=dtype, device=dev)\n",
    "    print(f'{func_name}, {shape}, {dtype}, {dev}')\n",
    "    print(t)\n",
    "    print()"
   ]
  },
  {
   "cell_type": "markdown",
   "metadata": {},
   "source": [
    "## 转换\n",
    "\n",
    "PyTorch中的张量可以由数组直接转换而来，也支持与NumPy数组的相互转换。\n",
    "\n",
    "**注意**：NumPy不支持CUDA平台。"
   ]
  },
  {
   "cell_type": "code",
   "execution_count": 3,
   "metadata": {},
   "outputs": [
    {
     "data": {
      "text/plain": [
       "([[0.2, 0.7, 1.7], [-23.0, 81.3, -4.4]],\n",
       " tensor([[  0.2000,   0.7000,   1.7000],\n",
       "         [-23.0000,  81.3000,  -4.4000]], device='cuda:0'))"
      ]
     },
     "execution_count": 3,
     "metadata": {},
     "output_type": "execute_result"
    }
   ],
   "source": [
    "arr = [[0.2, 0.7, 1.7], [-23.0, 81.3, -44e-1]]\n",
    "t_arr = torch.tensor(arr, dtype=torch.float32, device=dev2)\n",
    "\n",
    "arr, t_arr"
   ]
  },
  {
   "cell_type": "code",
   "execution_count": 4,
   "metadata": {},
   "outputs": [
    {
     "data": {
      "text/plain": [
       "array([[  0.2,   0.7,   1.7],\n",
       "       [-23. ,  81.3,  -4.4]], dtype=float32)"
      ]
     },
     "execution_count": 4,
     "metadata": {},
     "output_type": "execute_result"
    }
   ],
   "source": [
    "t_arr.to('cpu').numpy()"
   ]
  },
  {
   "cell_type": "code",
   "execution_count": 5,
   "metadata": {},
   "outputs": [
    {
     "data": {
      "text/plain": [
       "(array([ 0.        ,  1.66666667,  3.33333333,  5.        ,  6.66666667,\n",
       "         8.33333333, 10.        ]),\n",
       " tensor([ 0.0000,  1.6667,  3.3333,  5.0000,  6.6667,  8.3333, 10.0000],\n",
       "        dtype=torch.float64))"
      ]
     },
     "execution_count": 5,
     "metadata": {},
     "output_type": "execute_result"
    }
   ],
   "source": [
    "ndarr = np.linspace(0.0, 10.0, 7)\n",
    "ndarr, torch.from_numpy(ndarr)"
   ]
  },
  {
   "cell_type": "markdown",
   "metadata": {},
   "source": [
    "## 简单运算\n",
    "\n",
    "主要包括三类：\n",
    "\n",
    "- 运算符的重载，如`+`、`-`、`*`等；\n",
    "- 运算函数，例如`add`、`dot`、`mv`、`mm`等；\n",
    "- 自运算函数，例如`add_`，在运算函数后加下划线，运算的第一个变量和最终结果的保留都是自身。"
   ]
  },
  {
   "cell_type": "code",
   "execution_count": 6,
   "metadata": {},
   "outputs": [],
   "source": [
    "t0, t1, v0, v1, m0, m1 = \\\n",
    "    torch.rand(2, 3), torch.randn(2, 3), \\\n",
    "    torch.rand(4), torch.randn(4), \\\n",
    "    torch.rand(4, 4), torch.randn(4, 4)"
   ]
  },
  {
   "cell_type": "code",
   "execution_count": 7,
   "metadata": {},
   "outputs": [
    {
     "data": {
      "text/plain": [
       "(tensor([[ 1.7125,  1.1805, -0.5837],\n",
       "         [-0.4170, -0.0729, -0.2057]]),\n",
       " tensor([[ 1.6350,  0.3591, -0.3992],\n",
       "         [-1.2408, -0.6148, -1.7774]]))"
      ]
     },
     "execution_count": 7,
     "metadata": {},
     "output_type": "execute_result"
    }
   ],
   "source": [
    "t0 + t1, t0 / t1 + t0 * t1"
   ]
  },
  {
   "cell_type": "code",
   "execution_count": 8,
   "metadata": {},
   "outputs": [
    {
     "data": {
      "text/plain": [
       "(tensor([[ 1.7125,  1.1805, -0.5837],\n",
       "         [-0.4170, -0.0729, -0.2057]]),\n",
       " tensor([[ 1.6350,  0.3591, -0.3992],\n",
       "         [-1.2408, -0.6148, -1.7774]]))"
      ]
     },
     "execution_count": 8,
     "metadata": {},
     "output_type": "execute_result"
    }
   ],
   "source": [
    "torch.add(t0, t1), torch.add(torch.divide(t0, t1), torch.multiply(t0, t1))"
   ]
  },
  {
   "cell_type": "code",
   "execution_count": 9,
   "metadata": {},
   "outputs": [
    {
     "data": {
      "text/plain": [
       "(tensor([-0.0009, -0.3453, -0.6080,  0.0890]), tensor(-0.8652))"
      ]
     },
     "execution_count": 9,
     "metadata": {},
     "output_type": "execute_result"
    }
   ],
   "source": [
    "v0 * v1, torch.dot(v0, v1)"
   ]
  },
  {
   "cell_type": "code",
   "execution_count": 10,
   "metadata": {},
   "outputs": [
    {
     "data": {
      "text/plain": [
       "(tensor([[0.0113, 0.0016, 0.5771, 0.0667],\n",
       "         [0.0350, 0.2411, 0.3935, 0.0477],\n",
       "         [0.0818, 0.1721, 0.5972, 0.0090],\n",
       "         [0.0650, 0.0265, 0.1586, 0.0502]]),\n",
       " tensor([0.6567, 0.7173, 0.8601, 0.3003]))"
      ]
     },
     "execution_count": 10,
     "metadata": {},
     "output_type": "execute_result"
    }
   ],
   "source": [
    "m0 * v0, torch.mv(m0, v0)"
   ]
  },
  {
   "cell_type": "code",
   "execution_count": 11,
   "metadata": {},
   "outputs": [
    {
     "data": {
      "text/plain": [
       "(tensor([[ 1.0169e-03,  5.1313e-03,  9.7446e-01,  1.1505e-01],\n",
       "         [ 2.5670e-01,  1.8685e-01,  6.6122e-02,  1.5874e-02],\n",
       "         [ 1.2535e+00, -1.5788e-01,  7.0175e-01, -1.9961e-02],\n",
       "         [ 2.1085e-01,  3.2724e-02, -2.9733e-01, -9.6362e-01]]),\n",
       " tensor([[ 1.6109,  0.0598,  0.1664, -1.5079],\n",
       "         [ 1.6467,  0.5190,  0.4532, -0.9829],\n",
       "         [ 1.8980,  0.7303,  1.5254, -0.2404],\n",
       "         [ 0.5912,  0.7897,  0.3985, -0.8923]]))"
      ]
     },
     "execution_count": 11,
     "metadata": {},
     "output_type": "execute_result"
    }
   ],
   "source": [
    "m0 * m1, torch.mm(m0, m1)"
   ]
  },
  {
   "cell_type": "code",
   "execution_count": 12,
   "metadata": {},
   "outputs": [
    {
     "data": {
      "text/plain": [
       "tensor([[ 1.7125,  1.1805, -0.5837],\n",
       "        [-0.4170, -0.0729, -0.2057]])"
      ]
     },
     "execution_count": 12,
     "metadata": {},
     "output_type": "execute_result"
    }
   ],
   "source": [
    "t0.add_(t1)\n",
    "t0"
   ]
  },
  {
   "cell_type": "markdown",
   "metadata": {},
   "source": [
    "## 变换形状\n",
    "\n",
    "PyTorch继承了NumPy中变换数组形状的函数`reshape`，同时还提供了另一个变换形状的函数`view`。"
   ]
  },
  {
   "cell_type": "code",
   "execution_count": 13,
   "metadata": {},
   "outputs": [
    {
     "data": {
      "text/plain": [
       "(tensor([[ 1.7125,  1.1805],\n",
       "         [-0.5837, -0.4170],\n",
       "         [-0.0729, -0.2057]]),\n",
       " tensor([[ 1.7125,  1.1805],\n",
       "         [-0.5837, -0.4170],\n",
       "         [-0.0729, -0.2057]]))"
      ]
     },
     "execution_count": 13,
     "metadata": {},
     "output_type": "execute_result"
    }
   ],
   "source": [
    "t0.reshape(3, 2), t0.view(3, 2)"
   ]
  },
  {
   "cell_type": "code",
   "execution_count": 14,
   "metadata": {},
   "outputs": [
    {
     "data": {
      "text/plain": [
       "(tensor([[0.1119, 0.0048, 0.9214, 0.5369, 0.3450, 0.7291, 0.6283, 0.3838],\n",
       "         [0.8077, 0.5203, 0.9535, 0.0727, 0.6418, 0.0800, 0.2532, 0.4045]]),\n",
       " tensor([[0.1119, 0.0048, 0.9214, 0.5369, 0.3450, 0.7291, 0.6283, 0.3838],\n",
       "         [0.8077, 0.5203, 0.9535, 0.0727, 0.6418, 0.0800, 0.2532, 0.4045]]))"
      ]
     },
     "execution_count": 14,
     "metadata": {},
     "output_type": "execute_result"
    }
   ],
   "source": [
    "m0.reshape(-1, 8), m0.view(-1, 8)"
   ]
  },
  {
   "cell_type": "code",
   "execution_count": 15,
   "metadata": {},
   "outputs": [
    {
     "data": {
      "text/plain": [
       "tensor([[ 0.0091,  1.0605],\n",
       "        [ 1.0576,  0.2143],\n",
       "        [ 0.7440,  0.2563],\n",
       "        [ 0.1052,  0.0414],\n",
       "        [ 1.5518, -0.3035],\n",
       "        [ 0.7359, -0.2746],\n",
       "        [ 0.3285,  0.4088],\n",
       "        [-1.1743, -2.3824]])"
      ]
     },
     "execution_count": 15,
     "metadata": {},
     "output_type": "execute_result"
    }
   ],
   "source": [
    "m1.view(8, -1)"
   ]
  },
  {
   "cell_type": "markdown",
   "metadata": {},
   "source": [
    "`view`除了可以用来改变形状，还可以改变数据类型。"
   ]
  },
  {
   "cell_type": "code",
   "execution_count": 16,
   "metadata": {},
   "outputs": [
    {
     "data": {
      "text/plain": [
       "tensor([[ 1.1596e-02,  2.5541e-08],\n",
       "        [ 1.4308e-07,  4.5106e-14],\n",
       "        [-4.0780e-07, -2.1288e-07],\n",
       "        [ 4.1257e-06, -6.1177e+00]], dtype=torch.float64)"
      ]
     },
     "execution_count": 16,
     "metadata": {},
     "output_type": "execute_result"
    }
   ],
   "source": [
    "m1.view(torch.double)"
   ]
  },
  {
   "cell_type": "code",
   "execution_count": null,
   "metadata": {},
   "outputs": [],
   "source": []
  }
 ],
 "metadata": {
  "kernelspec": {
   "display_name": "Python 3.9.12 ('pytorch')",
   "language": "python",
   "name": "python3"
  },
  "language_info": {
   "codemirror_mode": {
    "name": "ipython",
    "version": 3
   },
   "file_extension": ".py",
   "mimetype": "text/x-python",
   "name": "python",
   "nbconvert_exporter": "python",
   "pygments_lexer": "ipython3",
   "version": "3.9.12"
  },
  "orig_nbformat": 4,
  "vscode": {
   "interpreter": {
    "hash": "7ac650165262f90a220c0d6f11cc32e6d2cfff423984774d41fc36868d505633"
   }
  }
 },
 "nbformat": 4,
 "nbformat_minor": 2
}
