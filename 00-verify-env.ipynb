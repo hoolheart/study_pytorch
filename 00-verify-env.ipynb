{
 "cells": [
  {
   "cell_type": "markdown",
   "metadata": {},
   "source": [
    "# Verify environment of PyTorch installation"
   ]
  },
  {
   "cell_type": "code",
   "execution_count": 1,
   "metadata": {},
   "outputs": [
    {
     "name": "stdout",
     "output_type": "stream",
     "text": [
      "Import PyTorch V1.12.1\n"
     ]
    }
   ],
   "source": [
    "import torch\n",
    "\n",
    "print(f'Import PyTorch V{torch.__version__}')"
   ]
  },
  {
   "cell_type": "code",
   "execution_count": 2,
   "metadata": {},
   "outputs": [
    {
     "name": "stdout",
     "output_type": "stream",
     "text": [
      "Create a random tensor in shape (4, 5)\n",
      "tensor([[0.9016, 0.7076, 0.5389, 0.7559, 0.4949],\n",
      "        [0.8899, 0.4315, 0.2985, 0.4039, 0.6576],\n",
      "        [0.0203, 0.0921, 0.0376, 0.8344, 0.9192],\n",
      "        [0.1506, 0.4191, 0.0976, 0.7343, 0.4298]])\n"
     ]
    }
   ],
   "source": [
    "shape = (4, 5)\n",
    "print(f'Create a random tensor in shape {shape}')\n",
    "x = torch.rand(*shape)\n",
    "print(x)"
   ]
  },
  {
   "cell_type": "code",
   "execution_count": 3,
   "metadata": {},
   "outputs": [
    {
     "name": "stdout",
     "output_type": "stream",
     "text": [
      "Avalability of CUDA: True\n"
     ]
    }
   ],
   "source": [
    "print(f'Avalability of CUDA: {torch.cuda.is_available()}')"
   ]
  },
  {
   "cell_type": "code",
   "execution_count": 4,
   "metadata": {},
   "outputs": [
    {
     "name": "stdout",
     "output_type": "stream",
     "text": [
      "Import D2L V1.0.0-alpha0\n"
     ]
    }
   ],
   "source": [
    "import d2l\n",
    "print(f'Import D2L V{d2l.__version__}')"
   ]
  },
  {
   "cell_type": "code",
   "execution_count": null,
   "metadata": {},
   "outputs": [],
   "source": []
  }
 ],
 "metadata": {
  "kernelspec": {
   "display_name": "pytorch",
   "language": "python",
   "name": "pytorch"
  },
  "language_info": {
   "codemirror_mode": {
    "name": "ipython",
    "version": 3
   },
   "file_extension": ".py",
   "mimetype": "text/x-python",
   "name": "python",
   "nbconvert_exporter": "python",
   "pygments_lexer": "ipython3",
   "version": "3.9.12"
  },
  "orig_nbformat": 4,
  "vscode": {
   "interpreter": {
    "hash": "3cd139d2d00664f492456f062bc3aeecb79fa482c7d8fde5b6dfee5569ba3aad"
   }
  }
 },
 "nbformat": 4,
 "nbformat_minor": 2
}
