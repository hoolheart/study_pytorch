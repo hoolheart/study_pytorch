{
 "cells": [
  {
   "cell_type": "markdown",
   "metadata": {},
   "source": [
    "# Verify environment of PyTorch installation"
   ]
  },
  {
   "cell_type": "code",
   "execution_count": 1,
   "metadata": {},
   "outputs": [
    {
     "name": "stdout",
     "output_type": "stream",
     "text": [
      "Import PyTorch V1.12.1\n"
     ]
    }
   ],
   "source": [
    "import torch\n",
    "\n",
    "print(f'Import PyTorch V{torch.__version__}')"
   ]
  },
  {
   "cell_type": "code",
   "execution_count": 2,
   "metadata": {},
   "outputs": [
    {
     "name": "stdout",
     "output_type": "stream",
     "text": [
      "Create a random tensor in shape (4, 5)\n",
      "tensor([[0.0512, 0.8480, 0.4133, 0.3063, 0.6719],\n",
      "        [0.9394, 0.5773, 0.1162, 0.2635, 0.3950],\n",
      "        [0.5432, 0.2034, 0.0539, 0.1401, 0.8941],\n",
      "        [0.9482, 0.7579, 0.1108, 0.3556, 0.1102]])\n"
     ]
    }
   ],
   "source": [
    "shape = (4, 5)\n",
    "print(f'Create a random tensor in shape {shape}')\n",
    "x = torch.rand(*shape)\n",
    "print(x)"
   ]
  },
  {
   "cell_type": "code",
   "execution_count": 3,
   "metadata": {},
   "outputs": [
    {
     "name": "stdout",
     "output_type": "stream",
     "text": [
      "Avalability of CUDA: True\n"
     ]
    }
   ],
   "source": [
    "print(f'Avalability of CUDA: {torch.cuda.is_available()}')"
   ]
  }
 ],
 "metadata": {
  "kernelspec": {
   "display_name": "pytorch",
   "language": "python",
   "name": "pytorch"
  },
  "language_info": {
   "codemirror_mode": {
    "name": "ipython",
    "version": 3
   },
   "file_extension": ".py",
   "mimetype": "text/x-python",
   "name": "python",
   "nbconvert_exporter": "python",
   "pygments_lexer": "ipython3",
   "version": "3.9.12"
  },
  "orig_nbformat": 4,
  "vscode": {
   "interpreter": {
    "hash": "3cd139d2d00664f492456f062bc3aeecb79fa482c7d8fde5b6dfee5569ba3aad"
   }
  }
 },
 "nbformat": 4,
 "nbformat_minor": 2
}
