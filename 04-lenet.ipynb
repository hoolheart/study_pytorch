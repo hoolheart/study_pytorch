{
 "cells": [
  {
   "attachments": {},
   "cell_type": "markdown",
   "metadata": {},
   "source": [
    "# LeNet"
   ]
  },
  {
   "cell_type": "code",
   "execution_count": 1,
   "metadata": {},
   "outputs": [
    {
     "name": "stdout",
     "output_type": "stream",
     "text": [
      "Import PyTorch V1.12.1\n",
      "Use device cpu\n"
     ]
    }
   ],
   "source": [
    "import os\n",
    "import sys\n",
    "\n",
    "import numpy as np\n",
    "import pandas as pd\n",
    "import matplotlib.pyplot as plt\n",
    "\n",
    "import torch\n",
    "print(f'Import PyTorch V{torch.__version__}')\n",
    "\n",
    "dev = torch.device(type='cuda') if torch.cuda.is_available() else torch.device(type='cpu')\n",
    "print(f'Use device {dev}')"
   ]
  },
  {
   "cell_type": "code",
   "execution_count": 4,
   "metadata": {},
   "outputs": [
    {
     "name": "stdout",
     "output_type": "stream",
     "text": [
      "Create LeNet Model\n",
      "Sequential(\n",
      "  (0): Conv2d(1, 6, kernel_size=(5, 5), stride=(1, 1), padding=(2, 2))\n",
      "  (1): Sigmoid()\n",
      "  (2): AvgPool2d(kernel_size=2, stride=2, padding=0)\n",
      "  (3): Conv2d(6, 16, kernel_size=(5, 5), stride=(1, 1))\n",
      "  (4): Sigmoid()\n",
      "  (5): AvgPool2d(kernel_size=2, stride=2, padding=0)\n",
      "  (6): Flatten(start_dim=1, end_dim=-1)\n",
      "  (7): Linear(in_features=400, out_features=120, bias=True)\n",
      "  (8): Sigmoid()\n",
      "  (9): Linear(in_features=120, out_features=84, bias=True)\n",
      "  (10): Sigmoid()\n",
      "  (11): Linear(in_features=84, out_features=10, bias=True)\n",
      "  (12): Softmax(dim=None)\n",
      ")\n"
     ]
    }
   ],
   "source": [
    "print('Create LeNet Model')\n",
    "\n",
    "def gen_lenet() -> torch.nn.Module:\n",
    "    return torch.nn.Sequential(\n",
    "        torch.nn.Conv2d(1, 6, kernel_size=5, padding=2), torch.nn.Sigmoid(),\n",
    "        torch.nn.AvgPool2d(kernel_size=2, stride=2),\n",
    "        torch.nn.Conv2d(6, 16, kernel_size=5), torch.nn.Sigmoid(),\n",
    "        torch.nn.AvgPool2d(kernel_size=2, stride=2),\n",
    "        torch.nn.Flatten(),\n",
    "        torch.nn.Linear(16 * 5 * 5, 120), torch.nn.Sigmoid(),\n",
    "        torch.nn.Linear(120, 84), torch.nn.Sigmoid(),\n",
    "        torch.nn.Linear(84, 10), torch.nn.Softmax(),\n",
    "    )\n",
    "\n",
    "m = gen_lenet().to(dev)\n",
    "print(m)\n"
   ]
  },
  {
   "cell_type": "code",
   "execution_count": 7,
   "metadata": {},
   "outputs": [
    {
     "name": "stdout",
     "output_type": "stream",
     "text": [
      "Prepare fasion mnist dataset\n",
      "Downloading http://fashion-mnist.s3-website.eu-central-1.amazonaws.com/train-images-idx3-ubyte.gz\n",
      "Using downloaded and verified file: data/FashionMNIST/raw/train-images-idx3-ubyte.gz\n",
      "Extracting data/FashionMNIST/raw/train-images-idx3-ubyte.gz to data/FashionMNIST/raw\n",
      "\n",
      "Downloading http://fashion-mnist.s3-website.eu-central-1.amazonaws.com/train-labels-idx1-ubyte.gz\n",
      "Using downloaded and verified file: data/FashionMNIST/raw/train-labels-idx1-ubyte.gz\n",
      "Extracting data/FashionMNIST/raw/train-labels-idx1-ubyte.gz to data/FashionMNIST/raw\n",
      "\n",
      "Downloading http://fashion-mnist.s3-website.eu-central-1.amazonaws.com/t10k-images-idx3-ubyte.gz\n",
      "Using downloaded and verified file: data/FashionMNIST/raw/t10k-images-idx3-ubyte.gz\n",
      "Extracting data/FashionMNIST/raw/t10k-images-idx3-ubyte.gz to data/FashionMNIST/raw\n",
      "\n",
      "Downloading http://fashion-mnist.s3-website.eu-central-1.amazonaws.com/t10k-labels-idx1-ubyte.gz\n",
      "Using downloaded and verified file: data/FashionMNIST/raw/t10k-labels-idx1-ubyte.gz\n",
      "Extracting data/FashionMNIST/raw/t10k-labels-idx1-ubyte.gz to data/FashionMNIST/raw\n",
      "\n",
      "Shape of X [N, C, H, W]: torch.Size([32, 1, 28, 28])\n",
      "Shape of y: torch.Size([32]) torch.int64\n"
     ]
    }
   ],
   "source": [
    "print('Prepare fasion mnist dataset')\n",
    "\n",
    "import torchvision\n",
    "from torchvision.transforms import ToTensor\n",
    "from torch.utils.data import DataLoader\n",
    "\n",
    "batch_size = 32\n",
    "\n",
    "ds_train = torchvision.datasets.FashionMNIST(\n",
    "    root='data',\n",
    "    train=True,\n",
    "    download=True,\n",
    "    transform=ToTensor(),\n",
    ")\n",
    "\n",
    "ds_test = torchvision.datasets.FashionMNIST(\n",
    "    root='data',\n",
    "    train=False,\n",
    "    download=True,\n",
    "    transform=ToTensor(),\n",
    ")\n",
    "\n",
    "loader_train = DataLoader(ds_train, batch_size, True)\n",
    "loader_test  = DataLoader(ds_test,  batch_size)\n",
    "\n",
    "for X, y in loader_test:\n",
    "    print(f\"Shape of X [N, C, H, W]: {X.shape}\")\n",
    "    print(f\"Shape of y: {y.shape} {y.dtype}\")\n",
    "    break"
   ]
  },
  {
   "cell_type": "code",
   "execution_count": 18,
   "metadata": {},
   "outputs": [
    {
     "name": "stdout",
     "output_type": "stream",
     "text": [
      "Prepared loss function CrossEntropyLoss()\n",
      "Prepared optimizator SGD (\n",
      "Parameter Group 0\n",
      "    dampening: 0\n",
      "    foreach: None\n",
      "    lr: 0.9\n",
      "    maximize: False\n",
      "    momentum: 0\n",
      "    nesterov: False\n",
      "    weight_decay: 0\n",
      ")\n"
     ]
    }
   ],
   "source": [
    "loss = torch.nn.CrossEntropyLoss()\n",
    "opt = torch.optim.SGD(m.parameters(), lr=0.9)\n",
    "print(f'Prepared loss function {loss}')\n",
    "print(f'Prepared optimizator {opt}')"
   ]
  },
  {
   "cell_type": "code",
   "execution_count": 12,
   "metadata": {},
   "outputs": [],
   "source": [
    "from typing import Callable, Tuple\n",
    "\n",
    "def train(\n",
    "        dataloader: DataLoader,\n",
    "        model: torch.nn.Module,\n",
    "        loss: Callable,\n",
    "        optimizer: torch.optim.Optimizer,\n",
    "        print_cycle: int = 100,\n",
    ") -> None:\n",
    "    if not isinstance(dataloader, DataLoader) or \\\n",
    "            not isinstance(model, torch.nn.Module) or \\\n",
    "            not isinstance(loss, Callable) or \\\n",
    "            not isinstance(optimizer, torch.optim.Optimizer) or \\\n",
    "            not isinstance(print_cycle, int) or \\\n",
    "            print_cycle < 10:\n",
    "        raise TypeError(f'Wrong input types: {type(dataloader)}, '\n",
    "                        f'{type(model)}, {type(loss)}, {type(optimizer)}, '\n",
    "                        f'{type(print_cycle)}, {print_cycle}')\n",
    "    size = len(dataloader.dataset)\n",
    "    model.train()\n",
    "    dev = next(iter(model.parameters())).device\n",
    "    for batch, (X, y) in enumerate(dataloader):\n",
    "        optimizer.zero_grad()\n",
    "        X, y = X.to(dev), y.to(dev)\n",
    "        # Compute prediction error\n",
    "        pred = model(X)\n",
    "        l = loss(pred, y)\n",
    "        # Backpropagation\n",
    "        l.backward()\n",
    "        optimizer.step()\n",
    "        if batch % print_cycle == 0:\n",
    "            l, current = l.item(), (batch + 1) * len(X)\n",
    "            print(f\"loss: {l:>7f}  [{current:>5d}/{size:>5d}]\")\n",
    "\n",
    "def test(\n",
    "        dataloader: DataLoader,\n",
    "        model: torch.nn.Module,\n",
    "        loss: Callable,\n",
    ") -> Tuple[float, float]:\n",
    "    if not isinstance(dataloader, DataLoader) or \\\n",
    "            not isinstance(model, torch.nn.Module) or \\\n",
    "            not isinstance(loss, Callable):\n",
    "        raise TypeError(f'Wrong input types: {type(dataloader)}, '\n",
    "                        f'{type(model)}, {type(loss)}')\n",
    "    size = len(dataloader.dataset)\n",
    "    num_batches = len(dataloader)\n",
    "    model.eval()\n",
    "    test_loss, correct = 0.0, 0.0\n",
    "    dev = next(iter(model.parameters())).device\n",
    "    with torch.no_grad():\n",
    "        for X, y in dataloader:\n",
    "            X, y = X.to(dev), y.to(dev)\n",
    "            pred = model(X)\n",
    "            test_loss += loss(pred, y).item()\n",
    "            correct += (pred.argmax(1) == y).type(torch.float).sum().item()\n",
    "    test_loss /= num_batches\n",
    "    correct /= size\n",
    "    return (test_loss, correct)"
   ]
  },
  {
   "cell_type": "code",
   "execution_count": 17,
   "metadata": {},
   "outputs": [
    {
     "data": {
      "text/plain": [
       "Sequential(\n",
       "  (0): Conv2d(1, 6, kernel_size=(5, 5), stride=(1, 1), padding=(2, 2))\n",
       "  (1): Sigmoid()\n",
       "  (2): AvgPool2d(kernel_size=2, stride=2, padding=0)\n",
       "  (3): Conv2d(6, 16, kernel_size=(5, 5), stride=(1, 1))\n",
       "  (4): Sigmoid()\n",
       "  (5): AvgPool2d(kernel_size=2, stride=2, padding=0)\n",
       "  (6): Flatten(start_dim=1, end_dim=-1)\n",
       "  (7): Linear(in_features=400, out_features=120, bias=True)\n",
       "  (8): Sigmoid()\n",
       "  (9): Linear(in_features=120, out_features=84, bias=True)\n",
       "  (10): Sigmoid()\n",
       "  (11): Linear(in_features=84, out_features=10, bias=True)\n",
       "  (12): Softmax(dim=None)\n",
       ")"
      ]
     },
     "execution_count": 17,
     "metadata": {},
     "output_type": "execute_result"
    }
   ],
   "source": [
    "def init_weights(m):\n",
    "    if type(m) == torch.nn.Linear or type(m) == torch.nn.Conv2d:\n",
    "        torch.nn.init.xavier_uniform_(m.weight)\n",
    "\n",
    "m.apply(init_weights)"
   ]
  },
  {
   "cell_type": "code",
   "execution_count": 20,
   "metadata": {},
   "outputs": [
    {
     "name": "stdout",
     "output_type": "stream",
     "text": [
      "Epoch 1\n",
      "-------------------------------\n"
     ]
    },
    {
     "name": "stderr",
     "output_type": "stream",
     "text": [
      "/Users/hzhou/anaconda3/envs/pytorch/lib/python3.9/site-packages/torch/nn/modules/container.py:139: UserWarning: Implicit dimension choice for softmax has been deprecated. Change the call to include dim=X as an argument.\n",
      "  input = module(input)\n"
     ]
    },
    {
     "name": "stdout",
     "output_type": "stream",
     "text": [
      "loss: 1.624954  [   32/60000]\n",
      "loss: 1.799572  [19232/60000]\n",
      "loss: 1.681514  [38432/60000]\n",
      "loss: 1.617116  [57632/60000]\n",
      "Test Error: Accuracy 80.2% Avg loss 1.659420\n",
      "\n",
      "Epoch 2\n",
      "-------------------------------\n",
      "loss: 1.639743  [   32/60000]\n",
      "loss: 1.595454  [19232/60000]\n",
      "loss: 1.711271  [38432/60000]\n",
      "loss: 1.641790  [57632/60000]\n",
      "Test Error: Accuracy 80.3% Avg loss 1.657520\n",
      "\n",
      "Epoch 3\n",
      "-------------------------------\n",
      "loss: 1.627110  [   32/60000]\n",
      "loss: 1.534080  [19232/60000]\n",
      "loss: 1.686262  [38432/60000]\n",
      "loss: 1.675175  [57632/60000]\n",
      "Test Error: Accuracy 80.3% Avg loss 1.657564\n",
      "\n",
      "Epoch 4\n",
      "-------------------------------\n",
      "loss: 1.541423  [   32/60000]\n",
      "loss: 1.706483  [19232/60000]\n",
      "loss: 1.557345  [38432/60000]\n",
      "loss: 1.562943  [57632/60000]\n",
      "Test Error: Accuracy 81.5% Avg loss 1.646560\n",
      "\n",
      "Epoch 5\n",
      "-------------------------------\n",
      "loss: 1.568389  [   32/60000]\n",
      "loss: 1.561717  [19232/60000]\n",
      "loss: 1.709478  [38432/60000]\n",
      "loss: 1.585127  [57632/60000]\n",
      "Test Error: Accuracy 81.3% Avg loss 1.647421\n",
      "\n"
     ]
    }
   ],
   "source": [
    "epochs = 5\n",
    "for t in range(epochs):\n",
    "    print(f\"Epoch {t+1}\\n-------------------------------\")\n",
    "    train(loader_train, m, loss, opt, 600)\n",
    "    l, correct = test(loader_test, m, loss)\n",
    "    print(f'Test Error: Accuracy {(100*correct):>0.1f}% Avg loss {l:>8f}')\n",
    "    print()"
   ]
  },
  {
   "cell_type": "code",
   "execution_count": null,
   "metadata": {},
   "outputs": [],
   "source": []
  }
 ],
 "metadata": {
  "kernelspec": {
   "display_name": "pytorch",
   "language": "python",
   "name": "pytorch"
  },
  "language_info": {
   "codemirror_mode": {
    "name": "ipython",
    "version": 3
   },
   "file_extension": ".py",
   "mimetype": "text/x-python",
   "name": "python",
   "nbconvert_exporter": "python",
   "pygments_lexer": "ipython3",
   "version": "3.9.16"
  },
  "orig_nbformat": 4
 },
 "nbformat": 4,
 "nbformat_minor": 2
}
