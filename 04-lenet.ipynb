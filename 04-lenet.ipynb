{
 "cells": [
  {
   "attachments": {},
   "cell_type": "markdown",
   "metadata": {},
   "source": [
    "# LeNet"
   ]
  },
  {
   "cell_type": "code",
   "execution_count": 1,
   "metadata": {},
   "outputs": [
    {
     "name": "stdout",
     "output_type": "stream",
     "text": [
      "Import PyTorch V1.13.1\n",
      "Use device cuda\n"
     ]
    }
   ],
   "source": [
    "import os\n",
    "import sys\n",
    "\n",
    "import numpy as np\n",
    "import pandas as pd\n",
    "import matplotlib.pyplot as plt\n",
    "\n",
    "import torch\n",
    "print(f'Import PyTorch V{torch.__version__}')\n",
    "\n",
    "dev = torch.device(type='cuda') if torch.cuda.is_available() else torch.device(type='cpu')\n",
    "print(f'Use device {dev}')"
   ]
  },
  {
   "cell_type": "code",
   "execution_count": 2,
   "metadata": {},
   "outputs": [
    {
     "name": "stdout",
     "output_type": "stream",
     "text": [
      "Create LeNet Model\n",
      "Sequential(\n",
      "  (0): Conv2d(1, 6, kernel_size=(5, 5), stride=(1, 1), padding=(2, 2))\n",
      "  (1): Sigmoid()\n",
      "  (2): AvgPool2d(kernel_size=2, stride=2, padding=0)\n",
      "  (3): Conv2d(6, 16, kernel_size=(5, 5), stride=(1, 1))\n",
      "  (4): Sigmoid()\n",
      "  (5): AvgPool2d(kernel_size=2, stride=2, padding=0)\n",
      "  (6): Flatten(start_dim=1, end_dim=-1)\n",
      "  (7): Linear(in_features=400, out_features=120, bias=True)\n",
      "  (8): Sigmoid()\n",
      "  (9): Linear(in_features=120, out_features=84, bias=True)\n",
      "  (10): Sigmoid()\n",
      "  (11): Linear(in_features=84, out_features=10, bias=True)\n",
      ")\n"
     ]
    }
   ],
   "source": [
    "print('Create LeNet Model')\n",
    "\n",
    "def gen_lenet() -> torch.nn.Module:\n",
    "    return torch.nn.Sequential(\n",
    "        torch.nn.Conv2d(1, 6, kernel_size=5, padding=2), torch.nn.Sigmoid(),\n",
    "        torch.nn.AvgPool2d(kernel_size=2, stride=2),\n",
    "        torch.nn.Conv2d(6, 16, kernel_size=5), torch.nn.Sigmoid(),\n",
    "        torch.nn.AvgPool2d(kernel_size=2, stride=2),\n",
    "        torch.nn.Flatten(),\n",
    "        torch.nn.Linear(16 * 5 * 5, 120), torch.nn.Sigmoid(),\n",
    "        torch.nn.Linear(120, 84), torch.nn.Sigmoid(),\n",
    "        torch.nn.Linear(84, 10), # torch.nn.Softmax(),\n",
    "    )\n",
    "\n",
    "m = gen_lenet().to(dev)\n",
    "print(m)\n"
   ]
  },
  {
   "cell_type": "code",
   "execution_count": 3,
   "metadata": {},
   "outputs": [
    {
     "name": "stdout",
     "output_type": "stream",
     "text": [
      "Prepare fasion mnist dataset\n",
      "Shape of X [N, C, H, W]: torch.Size([64, 1, 28, 28])\n",
      "Shape of y: torch.Size([64]) torch.int64\n"
     ]
    }
   ],
   "source": [
    "print('Prepare fasion mnist dataset')\n",
    "\n",
    "import torchvision\n",
    "from torchvision.transforms import ToTensor\n",
    "from torch.utils.data import DataLoader\n",
    "\n",
    "batch_size = 64 if torch.cuda.is_available() else 32\n",
    "\n",
    "ds_train = torchvision.datasets.FashionMNIST(\n",
    "    root='data',\n",
    "    train=True,\n",
    "    download=True,\n",
    "    transform=ToTensor(),\n",
    ")\n",
    "\n",
    "ds_test = torchvision.datasets.FashionMNIST(\n",
    "    root='data',\n",
    "    train=False,\n",
    "    download=True,\n",
    "    transform=ToTensor(),\n",
    ")\n",
    "\n",
    "loader_train = DataLoader(ds_train, batch_size, True)\n",
    "loader_test  = DataLoader(ds_test,  batch_size)\n",
    "\n",
    "for X, y in loader_test:\n",
    "    print(f\"Shape of X [N, C, H, W]: {X.shape}\")\n",
    "    print(f\"Shape of y: {y.shape} {y.dtype}\")\n",
    "    break"
   ]
  },
  {
   "cell_type": "code",
   "execution_count": 4,
   "metadata": {},
   "outputs": [
    {
     "name": "stdout",
     "output_type": "stream",
     "text": [
      "Prepared loss function CrossEntropyLoss()\n",
      "Prepared optimizator SGD (\n",
      "Parameter Group 0\n",
      "    dampening: 0\n",
      "    differentiable: False\n",
      "    foreach: None\n",
      "    lr: 0.9\n",
      "    maximize: False\n",
      "    momentum: 0\n",
      "    nesterov: False\n",
      "    weight_decay: 0\n",
      ")\n"
     ]
    }
   ],
   "source": [
    "loss_fn = torch.nn.CrossEntropyLoss()\n",
    "opt = torch.optim.SGD(m.parameters(), lr=0.9)\n",
    "print(f'Prepared loss function {loss_fn}')\n",
    "print(f'Prepared optimizator {opt}')"
   ]
  },
  {
   "cell_type": "code",
   "execution_count": 5,
   "metadata": {},
   "outputs": [],
   "source": [
    "from typing import Callable, Tuple\n",
    "\n",
    "def train(\n",
    "        dataloader: DataLoader,\n",
    "        model: torch.nn.Module,\n",
    "        loss_fn: Callable,\n",
    "        optimizer: torch.optim.Optimizer,\n",
    "        print_cycle: int = 100,\n",
    ") -> None:\n",
    "    if not isinstance(dataloader, DataLoader) or \\\n",
    "            not isinstance(model, torch.nn.Module) or \\\n",
    "            not isinstance(loss_fn, Callable) or \\\n",
    "            not isinstance(optimizer, torch.optim.Optimizer) or \\\n",
    "            not isinstance(print_cycle, int) or \\\n",
    "            print_cycle < 10:\n",
    "        raise TypeError(f'Wrong input types: {type(dataloader)}, '\n",
    "                        f'{type(model)}, {type(loss_fn)}, {type(optimizer)}, '\n",
    "                        f'{type(print_cycle)}, {print_cycle}')\n",
    "    size = len(dataloader.dataset)\n",
    "    model.train()\n",
    "    dev = next(iter(model.parameters())).device\n",
    "    for batch, (X, y) in enumerate(dataloader):\n",
    "        optimizer.zero_grad()\n",
    "        X, y = X.to(dev), y.to(dev)\n",
    "        # Compute prediction error\n",
    "        pred = model(X)\n",
    "        loss = loss_fn(pred, y)\n",
    "        # Backpropagation\n",
    "        loss.backward()\n",
    "        optimizer.step()\n",
    "        if batch % print_cycle == 0:\n",
    "            loss, current = loss.item(), (batch + 1) * len(X)\n",
    "            print(f\"loss: {loss:>7f}  [{current:>5d}/{size:>5d}]\")\n",
    "\n",
    "def test(\n",
    "        dataloader: DataLoader,\n",
    "        model: torch.nn.Module,\n",
    "        loss_fn: Callable,\n",
    ") -> Tuple[float, float]:\n",
    "    if not isinstance(dataloader, DataLoader) or \\\n",
    "            not isinstance(model, torch.nn.Module) or \\\n",
    "            not isinstance(loss_fn, Callable):\n",
    "        raise TypeError(f'Wrong input types: {type(dataloader)}, '\n",
    "                        f'{type(model)}, {type(loss_fn)}')\n",
    "    size = len(dataloader.dataset)\n",
    "    num_batches = len(dataloader)\n",
    "    model.eval()\n",
    "    test_loss, correct = 0.0, 0.0\n",
    "    dev = next(iter(model.parameters())).device\n",
    "    with torch.no_grad():\n",
    "        for X, y in dataloader:\n",
    "            X, y = X.to(dev), y.to(dev)\n",
    "            pred = model(X)\n",
    "            test_loss += loss_fn(pred, y).item()\n",
    "            correct += (pred.argmax(1) == y).type(torch.float).sum().item()\n",
    "    test_loss /= num_batches\n",
    "    correct /= size\n",
    "    return (test_loss, correct)"
   ]
  },
  {
   "cell_type": "code",
   "execution_count": 6,
   "metadata": {},
   "outputs": [
    {
     "data": {
      "text/plain": [
       "Sequential(\n",
       "  (0): Conv2d(1, 6, kernel_size=(5, 5), stride=(1, 1), padding=(2, 2))\n",
       "  (1): Sigmoid()\n",
       "  (2): AvgPool2d(kernel_size=2, stride=2, padding=0)\n",
       "  (3): Conv2d(6, 16, kernel_size=(5, 5), stride=(1, 1))\n",
       "  (4): Sigmoid()\n",
       "  (5): AvgPool2d(kernel_size=2, stride=2, padding=0)\n",
       "  (6): Flatten(start_dim=1, end_dim=-1)\n",
       "  (7): Linear(in_features=400, out_features=120, bias=True)\n",
       "  (8): Sigmoid()\n",
       "  (9): Linear(in_features=120, out_features=84, bias=True)\n",
       "  (10): Sigmoid()\n",
       "  (11): Linear(in_features=84, out_features=10, bias=True)\n",
       ")"
      ]
     },
     "execution_count": 6,
     "metadata": {},
     "output_type": "execute_result"
    }
   ],
   "source": [
    "def init_weights(m):\n",
    "    if type(m) == torch.nn.Linear or type(m) == torch.nn.Conv2d:\n",
    "        torch.nn.init.xavier_uniform_(m.weight)\n",
    "\n",
    "m.apply(init_weights)"
   ]
  },
  {
   "cell_type": "code",
   "execution_count": 7,
   "metadata": {},
   "outputs": [
    {
     "name": "stdout",
     "output_type": "stream",
     "text": [
      "Epoch 1\n",
      "-------------------------------\n",
      "loss: 2.628754  [   64/60000]\n",
      "loss: 2.324136  [38464/60000]\n",
      "Test Error: Accuracy 10.0% Avg loss 2.305992\n",
      "\n",
      "Epoch 2\n",
      "-------------------------------\n",
      "loss: 2.304257  [   64/60000]\n",
      "loss: 1.835184  [38464/60000]\n",
      "Test Error: Accuracy 62.8% Avg loss 0.966618\n",
      "\n",
      "Epoch 3\n",
      "-------------------------------\n",
      "loss: 0.959909  [   64/60000]\n",
      "loss: 0.590586  [38464/60000]\n",
      "Test Error: Accuracy 76.4% Avg loss 0.599620\n",
      "\n",
      "Epoch 4\n",
      "-------------------------------\n",
      "loss: 0.616673  [   64/60000]\n",
      "loss: 0.403613  [38464/60000]\n",
      "Test Error: Accuracy 73.6% Avg loss 0.694210\n",
      "\n",
      "Epoch 5\n",
      "-------------------------------\n",
      "loss: 0.754572  [   64/60000]\n",
      "loss: 0.378618  [38464/60000]\n",
      "Test Error: Accuracy 82.3% Avg loss 0.464203\n",
      "\n",
      "Epoch 6\n",
      "-------------------------------\n",
      "loss: 0.457129  [   64/60000]\n",
      "loss: 0.689101  [38464/60000]\n",
      "Test Error: Accuracy 83.4% Avg loss 0.451962\n",
      "\n",
      "Epoch 7\n",
      "-------------------------------\n",
      "loss: 0.541685  [   64/60000]\n",
      "loss: 0.398665  [38464/60000]\n",
      "Test Error: Accuracy 84.4% Avg loss 0.413759\n",
      "\n",
      "Epoch 8\n",
      "-------------------------------\n",
      "loss: 0.344804  [   64/60000]\n",
      "loss: 0.448600  [38464/60000]\n",
      "Test Error: Accuracy 85.3% Avg loss 0.386822\n",
      "\n",
      "Epoch 9\n",
      "-------------------------------\n",
      "loss: 0.177007  [   64/60000]\n",
      "loss: 0.250395  [38464/60000]\n",
      "Test Error: Accuracy 85.7% Avg loss 0.383438\n",
      "\n",
      "Epoch 10\n",
      "-------------------------------\n",
      "loss: 0.237703  [   64/60000]\n",
      "loss: 0.478946  [38464/60000]\n",
      "Test Error: Accuracy 86.2% Avg loss 0.371349\n",
      "\n"
     ]
    }
   ],
   "source": [
    "epochs = 10\n",
    "for t in range(epochs):\n",
    "    print(f\"Epoch {t+1}\\n-------------------------------\")\n",
    "    train(loader_train, m, loss_fn, opt, 600)\n",
    "    l, correct = test(loader_test, m, loss_fn)\n",
    "    print(f'Test Error: Accuracy {(100*correct):>0.1f}% Avg loss {l:>8f}')\n",
    "    print()"
   ]
  },
  {
   "cell_type": "code",
   "execution_count": 8,
   "metadata": {},
   "outputs": [
    {
     "name": "stdout",
     "output_type": "stream",
     "text": [
      "Improved LeNet\n",
      "Sequential(\n",
      "  (0): Conv2d(1, 6, kernel_size=(5, 5), stride=(1, 1), padding=(2, 2))\n",
      "  (1): ReLU()\n",
      "  (2): MaxPool2d(kernel_size=2, stride=2, padding=0, dilation=1, ceil_mode=False)\n",
      "  (3): Conv2d(6, 16, kernel_size=(5, 5), stride=(1, 1))\n",
      "  (4): ReLU()\n",
      "  (5): MaxPool2d(kernel_size=2, stride=2, padding=0, dilation=1, ceil_mode=False)\n",
      "  (6): Flatten(start_dim=1, end_dim=-1)\n",
      "  (7): Linear(in_features=400, out_features=120, bias=True)\n",
      "  (8): ReLU()\n",
      "  (9): Linear(in_features=120, out_features=84, bias=True)\n",
      "  (10): ReLU()\n",
      "  (11): Linear(in_features=84, out_features=10, bias=True)\n",
      ")\n"
     ]
    }
   ],
   "source": [
    "# try improved LeNet\n",
    "def get_lenet2() -> torch.nn.Module:\n",
    "    return torch.nn.Sequential(\n",
    "        torch.nn.Conv2d(1, 6, kernel_size=5, padding=2), torch.nn.ReLU(),\n",
    "        torch.nn.MaxPool2d(2, 2),\n",
    "        torch.nn.Conv2d(6, 16, kernel_size=5), torch.nn.ReLU(),\n",
    "        torch.nn.MaxPool2d(2, 2),\n",
    "        torch.nn.Flatten(), torch.nn.Linear(400, 120), torch.nn.ReLU(),\n",
    "        torch.nn.Linear(120, 84), torch.nn.ReLU(),\n",
    "        torch.nn.Linear(84, 10), # torch.nn.Softmax(),\n",
    "    )\n",
    "\n",
    "m2 = get_lenet2().to(dev)\n",
    "print('Improved LeNet')\n",
    "print(m2)"
   ]
  },
  {
   "cell_type": "code",
   "execution_count": 9,
   "metadata": {},
   "outputs": [
    {
     "data": {
      "text/plain": [
       "Sequential(\n",
       "  (0): Conv2d(1, 6, kernel_size=(5, 5), stride=(1, 1), padding=(2, 2))\n",
       "  (1): ReLU()\n",
       "  (2): MaxPool2d(kernel_size=2, stride=2, padding=0, dilation=1, ceil_mode=False)\n",
       "  (3): Conv2d(6, 16, kernel_size=(5, 5), stride=(1, 1))\n",
       "  (4): ReLU()\n",
       "  (5): MaxPool2d(kernel_size=2, stride=2, padding=0, dilation=1, ceil_mode=False)\n",
       "  (6): Flatten(start_dim=1, end_dim=-1)\n",
       "  (7): Linear(in_features=400, out_features=120, bias=True)\n",
       "  (8): ReLU()\n",
       "  (9): Linear(in_features=120, out_features=84, bias=True)\n",
       "  (10): ReLU()\n",
       "  (11): Linear(in_features=84, out_features=10, bias=True)\n",
       ")"
      ]
     },
     "execution_count": 9,
     "metadata": {},
     "output_type": "execute_result"
    }
   ],
   "source": [
    "m2.apply(init_weights) # initialize weights"
   ]
  },
  {
   "cell_type": "code",
   "execution_count": 10,
   "metadata": {},
   "outputs": [
    {
     "name": "stdout",
     "output_type": "stream",
     "text": [
      "Epoch 1\n",
      "-------------------------------\n",
      "loss: 2.306036  [   64/60000]\n",
      "loss: 1.101006  [38464/60000]\n",
      "Test Error: Accuracy 72.4% Avg loss 0.701452\n",
      "\n",
      "Epoch 2\n",
      "-------------------------------\n",
      "loss: 0.775961  [   64/60000]\n",
      "loss: 0.476271  [38464/60000]\n",
      "Test Error: Accuracy 75.8% Avg loss 0.633434\n",
      "\n",
      "Epoch 3\n",
      "-------------------------------\n",
      "loss: 0.693133  [   64/60000]\n",
      "loss: 0.309150  [38464/60000]\n",
      "Test Error: Accuracy 79.5% Avg loss 0.537873\n",
      "\n",
      "Epoch 4\n",
      "-------------------------------\n",
      "loss: 0.634152  [   64/60000]\n",
      "loss: 0.453298  [38464/60000]\n",
      "Test Error: Accuracy 81.0% Avg loss 0.512351\n",
      "\n",
      "Epoch 5\n",
      "-------------------------------\n",
      "loss: 0.599051  [   64/60000]\n",
      "loss: 0.368264  [38464/60000]\n",
      "Test Error: Accuracy 83.9% Avg loss 0.454806\n",
      "\n",
      "Epoch 6\n",
      "-------------------------------\n",
      "loss: 0.436514  [   64/60000]\n",
      "loss: 0.612654  [38464/60000]\n",
      "Test Error: Accuracy 83.7% Avg loss 0.448276\n",
      "\n",
      "Epoch 7\n",
      "-------------------------------\n",
      "loss: 0.386359  [   64/60000]\n",
      "loss: 0.270311  [38464/60000]\n",
      "Test Error: Accuracy 84.8% Avg loss 0.421925\n",
      "\n",
      "Epoch 8\n",
      "-------------------------------\n",
      "loss: 0.338891  [   64/60000]\n",
      "loss: 0.487604  [38464/60000]\n",
      "Test Error: Accuracy 84.6% Avg loss 0.418533\n",
      "\n",
      "Epoch 9\n",
      "-------------------------------\n",
      "loss: 0.442067  [   64/60000]\n",
      "loss: 0.304070  [38464/60000]\n",
      "Test Error: Accuracy 84.4% Avg loss 0.418271\n",
      "\n",
      "Epoch 10\n",
      "-------------------------------\n",
      "loss: 0.614625  [   64/60000]\n",
      "loss: 0.343247  [38464/60000]\n",
      "Test Error: Accuracy 86.2% Avg loss 0.383880\n",
      "\n"
     ]
    }
   ],
   "source": [
    "opt2 = torch.optim.SGD(m2.parameters(), 0.01)\n",
    "for t in range(epochs):\n",
    "    print(f\"Epoch {t+1}\\n-------------------------------\")\n",
    "    train(loader_train, m2, loss_fn, opt2, 600)\n",
    "    l, correct = test(loader_test, m2, loss_fn)\n",
    "    print(f'Test Error: Accuracy {(100*correct):>0.1f}% Avg loss {l:>8f}')\n",
    "    print()"
   ]
  },
  {
   "cell_type": "code",
   "execution_count": null,
   "metadata": {},
   "outputs": [],
   "source": []
  }
 ],
 "metadata": {
  "kernelspec": {
   "display_name": "pytorch",
   "language": "python",
   "name": "pytorch"
  },
  "language_info": {
   "codemirror_mode": {
    "name": "ipython",
    "version": 3
   },
   "file_extension": ".py",
   "mimetype": "text/x-python",
   "name": "python",
   "nbconvert_exporter": "python",
   "pygments_lexer": "ipython3",
   "version": "3.9.15"
  },
  "orig_nbformat": 4
 },
 "nbformat": 4,
 "nbformat_minor": 2
}
