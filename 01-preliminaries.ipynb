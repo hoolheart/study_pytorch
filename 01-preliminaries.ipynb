{
 "cells": [
  {
   "cell_type": "markdown",
   "metadata": {},
   "source": [
    "# Preliminaries before diving\n",
    "\n",
    "- basic mathmatics tools and functions\n",
    "- basic data process\n",
    "- basic probability theory"
   ]
  },
  {
   "cell_type": "code",
   "execution_count": 13,
   "metadata": {},
   "outputs": [
    {
     "name": "stdout",
     "output_type": "stream",
     "text": [
      "Import PyTorch V1.12.1\n"
     ]
    }
   ],
   "source": [
    "import os\n",
    "import sys\n",
    "\n",
    "import numpy as np\n",
    "import pandas as pd\n",
    "import matplotlib.pyplot as plt\n",
    "\n",
    "import torch\n",
    "from d2l import torch as d2l\n",
    "print(f'Import PyTorch V{torch.__version__}')"
   ]
  },
  {
   "cell_type": "markdown",
   "metadata": {},
   "source": [
    "## Creation of tensors\n",
    "\n",
    "Major creations:\n",
    "\n",
    "1. arange: generate an ascending sequence\n",
    "1. zeros: generate a tensor whose elements are initialized as 0\n",
    "1. ones: generate a tensor whose elements are initialized as 1\n",
    "1. rand: generate a tensor whose elements folow uniform distribution in [0, 1]\n",
    "1. randn: generate a tensor whose elements follow N(0, 1)\n",
    "1. tensor: convert a numerical array into a tensor"
   ]
  },
  {
   "cell_type": "code",
   "execution_count": 3,
   "metadata": {},
   "outputs": [
    {
     "name": "stdout",
     "output_type": "stream",
     "text": [
      "Create a tensor: tensor([0., 1., 2., 3., 4., 5., 6., 7.], dtype=torch.float64)\n",
      "Its shape is torch.Size([8]), and it contains 8 elements\n"
     ]
    }
   ],
   "source": [
    "t0 = torch.arange(8, dtype=torch.float64)\n",
    "print(f'Create a tensor: {t0}')\n",
    "print(f'Its shape is {t0.shape}, and it contains {t0.numel()} elements')"
   ]
  },
  {
   "cell_type": "code",
   "execution_count": 5,
   "metadata": {},
   "outputs": [
    {
     "name": "stdout",
     "output_type": "stream",
     "text": [
      "Reshape tensor to a matrix with two rows:\n",
      "tensor([[0., 1., 2., 3.],\n",
      "        [4., 5., 6., 7.]], dtype=torch.float64)\n"
     ]
    }
   ],
   "source": [
    "print(f'Reshape tensor to a matrix with two rows:\\n{t0.reshape(2, -1)}')"
   ]
  },
  {
   "cell_type": "code",
   "execution_count": 8,
   "metadata": {},
   "outputs": [
    {
     "name": "stdout",
     "output_type": "stream",
     "text": [
      "Create tensor with shape (2, 3, 2) by several common creations\n",
      "\n",
      "zeros\n",
      "tensor([[[0., 0.],\n",
      "         [0., 0.],\n",
      "         [0., 0.]],\n",
      "\n",
      "        [[0., 0.],\n",
      "         [0., 0.],\n",
      "         [0., 0.]]])\n",
      "ones\n",
      "tensor([[[1., 1.],\n",
      "         [1., 1.],\n",
      "         [1., 1.]],\n",
      "\n",
      "        [[1., 1.],\n",
      "         [1., 1.],\n",
      "         [1., 1.]]])\n",
      "rand\n",
      "tensor([[[0.6927, 0.4803],\n",
      "         [0.4247, 0.9278],\n",
      "         [0.8447, 0.5555]],\n",
      "\n",
      "        [[0.1668, 0.4057],\n",
      "         [0.9301, 0.7155],\n",
      "         [0.9404, 0.2962]]])\n",
      "randn\n",
      "tensor([[[-0.4372,  0.4320],\n",
      "         [ 0.0272, -2.0172],\n",
      "         [ 0.0704, -1.6593]],\n",
      "\n",
      "        [[ 1.1760,  0.7541],\n",
      "         [ 1.2423,  0.0792],\n",
      "         [-0.0781,  0.0023]]])\n"
     ]
    }
   ],
   "source": [
    "creations = [torch.zeros, torch.ones, torch.rand, torch.randn]\n",
    "shape = (2, 3, 2)\n",
    "print(f'Create tensor with shape {shape} by several common creations')\n",
    "print()\n",
    "for func in creations:\n",
    "    print(func.__name__)\n",
    "    print(func(shape))"
   ]
  },
  {
   "cell_type": "code",
   "execution_count": 10,
   "metadata": {},
   "outputs": [
    {
     "name": "stdout",
     "output_type": "stream",
     "text": [
      "Create an integer tensor from an array:\n",
      "tensor([[2, 1, 3],\n",
      "        [1, 2, 1]])\n",
      "Shape: torch.Size([2, 3])\n",
      "DType: torch.int64\n",
      "Size: 6\n"
     ]
    }
   ],
   "source": [
    "t2 = torch.tensor([[2, 1, 3], [1, 2, 1]])\n",
    "print(f'Create an integer tensor from an array:\\n{t2}')\n",
    "print(f'Shape: {t2.shape}')\n",
    "print(f'DType: {t2.dtype}')\n",
    "print(f'Size: {t2.numel()}')"
   ]
  },
  {
   "cell_type": "code",
   "execution_count": 11,
   "metadata": {},
   "outputs": [
    {
     "name": "stdout",
     "output_type": "stream",
     "text": [
      "There are 1 CUDA devices\n",
      "Try create a tensor in GPU\n",
      "tensor([0.3036, 0.0079, 0.3854, 0.9890, 0.0779, 0.8209, 0.2009, 0.2005],\n",
      "       device='cuda:0')\n"
     ]
    }
   ],
   "source": [
    "print(f'There are {torch.cuda.device_count()} CUDA devices')\n",
    "if torch.cuda.is_available():\n",
    "    print('Try create a tensor in GPU')\n",
    "    t3 = torch.rand_like(t0, dtype=torch.float32, device=torch.device(type='cuda'))\n",
    "    print(t3)"
   ]
  },
  {
   "cell_type": "markdown",
   "metadata": {},
   "source": [
    "## Load data from csv files\n",
    "\n",
    "Use pandas to load data and convert into tensor"
   ]
  },
  {
   "cell_type": "code",
   "execution_count": 22,
   "metadata": {},
   "outputs": [
    {
     "name": "stdout",
     "output_type": "stream",
     "text": [
      "Prepare csv data file\n"
     ]
    }
   ],
   "source": [
    "print('Prepare csv data file')\n",
    "os.makedirs('data', exist_ok=True)\n",
    "data_file = os.path.join('data', 'house_tiny.csv')\n",
    "with open(data_file, 'w') as f:\n",
    "    f.write('room_count, alley, price\\n')\n",
    "    f.write('NA, Pave, 127500\\n')\n",
    "    f.write('2, NA, 106000\\n')\n",
    "    f.write('4, NA, 178100\\n') \n",
    "    f.write('NA, NA, 140000\\n')\n",
    "    f.flush()"
   ]
  },
  {
   "cell_type": "code",
   "execution_count": 26,
   "metadata": {},
   "outputs": [
    {
     "name": "stdout",
     "output_type": "stream",
     "text": [
      "Load data by using Pandas V{pd.__version__}\n",
      "   room_count alley   price\n",
      "0         NaN  Pave  127500\n",
      "1         2.0   NaN  106000\n",
      "2         4.0   NaN  178100\n",
      "3         NaN   NaN  140000\n"
     ]
    }
   ],
   "source": [
    "print('Load data by using Pandas V{pd.__version__}')\n",
    "houses = pd.read_csv(data_file, skipinitialspace=True)\n",
    "print(houses)"
   ]
  },
  {
   "cell_type": "code",
   "execution_count": 29,
   "metadata": {},
   "outputs": [
    {
     "name": "stdout",
     "output_type": "stream",
     "text": [
      "Consider price as function of room count and alley\n",
      "inputs: \n",
      "   room_count alley\n",
      "0         NaN  Pave\n",
      "1         2.0   NaN\n",
      "2         4.0   NaN\n",
      "3         NaN   NaN\n",
      "outputs: \n",
      "0    127500\n",
      "1    106000\n",
      "2    178100\n",
      "3    140000\n",
      "Name: price, dtype: int64\n"
     ]
    }
   ],
   "source": [
    "print('Consider price as function of room count and alley')\n",
    "inputs, outputs = houses.loc[:, ('room_count', 'alley')], houses.loc[:, 'price']\n",
    "print(f'inputs: \\n{inputs}')\n",
    "print(f'outputs: \\n{outputs}')"
   ]
  },
  {
   "cell_type": "code",
   "execution_count": 30,
   "metadata": {},
   "outputs": [
    {
     "name": "stdout",
     "output_type": "stream",
     "text": [
      "Fill inputs by using mean values\n",
      "   room_count alley\n",
      "0         3.0  Pave\n",
      "1         2.0   NaN\n",
      "2         4.0   NaN\n",
      "3         3.0   NaN\n"
     ]
    },
    {
     "name": "stderr",
     "output_type": "stream",
     "text": [
      "C:\\Users\\prett\\AppData\\Local\\Temp\\ipykernel_4448\\3806031187.py:2: FutureWarning: Dropping of nuisance columns in DataFrame reductions (with 'numeric_only=None') is deprecated; in a future version this will raise TypeError.  Select only valid columns before calling the reduction.\n",
      "  inputs = inputs.fillna(inputs.mean())\n"
     ]
    }
   ],
   "source": [
    "print('Fill inputs by using mean values')\n",
    "inputs = inputs.fillna(inputs.mean())\n",
    "print(inputs)"
   ]
  },
  {
   "cell_type": "code",
   "execution_count": 31,
   "metadata": {},
   "outputs": [
    {
     "name": "stdout",
     "output_type": "stream",
     "text": [
      "Use integers to represent category-like attributes\n",
      "   room_count  alley_Pave  alley_nan\n",
      "0         3.0           1          0\n",
      "1         2.0           0          1\n",
      "2         4.0           0          1\n",
      "3         3.0           0          1\n"
     ]
    }
   ],
   "source": [
    "print('Use integers to represent category-like attributes')\n",
    "inputs = pd.get_dummies(inputs, dummy_na=True)\n",
    "print(inputs)"
   ]
  },
  {
   "cell_type": "code",
   "execution_count": 32,
   "metadata": {},
   "outputs": [
    {
     "name": "stdout",
     "output_type": "stream",
     "text": [
      "Convert Pandas DataFrame into PyTorch tensor\n"
     ]
    },
    {
     "data": {
      "text/plain": [
       "(tensor([[3., 1., 0.],\n",
       "         [2., 0., 1.],\n",
       "         [4., 0., 1.],\n",
       "         [3., 0., 1.]], dtype=torch.float64),\n",
       " tensor([127500, 106000, 178100, 140000]))"
      ]
     },
     "execution_count": 32,
     "metadata": {},
     "output_type": "execute_result"
    }
   ],
   "source": [
    "print('Convert Pandas DataFrame into PyTorch tensor')\n",
    "inputs, outputs = torch.tensor(inputs.values), torch.tensor(outputs.values)\n",
    "inputs, outputs"
   ]
  },
  {
   "cell_type": "code",
   "execution_count": null,
   "metadata": {},
   "outputs": [],
   "source": []
  }
 ],
 "metadata": {
  "kernelspec": {
   "display_name": "Python 3.9.12 ('pytorch')",
   "language": "python",
   "name": "python3"
  },
  "language_info": {
   "codemirror_mode": {
    "name": "ipython",
    "version": 3
   },
   "file_extension": ".py",
   "mimetype": "text/x-python",
   "name": "python",
   "nbconvert_exporter": "python",
   "pygments_lexer": "ipython3",
   "version": "3.9.12"
  },
  "orig_nbformat": 4,
  "vscode": {
   "interpreter": {
    "hash": "7ac650165262f90a220c0d6f11cc32e6d2cfff423984774d41fc36868d505633"
   }
  }
 },
 "nbformat": 4,
 "nbformat_minor": 2
}
