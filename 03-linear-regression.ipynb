{
 "cells": [
  {
   "cell_type": "markdown",
   "metadata": {},
   "source": [
    "# 线性拟合\n",
    "\n",
    "线性拟合算是最为基础的机器学习模型，本文使用PyTorch的神经网络模块`torch.nn`搭建一个简单的线性拟合模型，并进行学习。"
   ]
  },
  {
   "cell_type": "code",
   "execution_count": 1,
   "metadata": {},
   "outputs": [
    {
     "name": "stdout",
     "output_type": "stream",
     "text": [
      "Import PyTorch V1.12.1\n"
     ]
    }
   ],
   "source": [
    "import os\n",
    "import sys\n",
    "\n",
    "import numpy as np\n",
    "import pandas as pd\n",
    "import matplotlib.pyplot as plt\n",
    "\n",
    "import torch\n",
    "print(f'Import PyTorch V{torch.__version__}')"
   ]
  },
  {
   "cell_type": "code",
   "execution_count": 2,
   "metadata": {},
   "outputs": [
    {
     "name": "stdout",
     "output_type": "stream",
     "text": [
      "Use device cuda\n"
     ]
    }
   ],
   "source": [
    "dev = torch.device(type='cuda') if torch.cuda.is_available() else torch.device(type='cpu')\n",
    "print(f'Use device {dev}')"
   ]
  },
  {
   "cell_type": "markdown",
   "metadata": {},
   "source": [
    "## 模型\n",
    "\n",
    "线性拟合的模型如下所示：\n",
    "\n",
    "$$y = x A^T + b$$\n",
    "\n",
    "其中$x$为输入数据，$y$为输出数据，$A$和$b$是需要拟合的模型参数，\n",
    "令$d_i$和$d_o$分别代表输入和输出数据的维度，则$A$维度为$d_o \\times d_i$，$b$维度为$d_o$。"
   ]
  },
  {
   "cell_type": "markdown",
   "metadata": {},
   "source": [
    "这里假设问题的输入、输出维度分别为4和2，正确的解如下所示。"
   ]
  },
  {
   "cell_type": "code",
   "execution_count": 3,
   "metadata": {},
   "outputs": [
    {
     "data": {
      "text/plain": [
       "(tensor([[ 1.2000,  3.0000,  7.7000, -0.9000]]), tensor([0.7000]))"
      ]
     },
     "execution_count": 3,
     "metadata": {},
     "output_type": "execute_result"
    }
   ],
   "source": [
    "d_i, d_o = 4, 1\n",
    "A_hat = torch.tensor([\n",
    "    [1.2, 3.0, 7.7, -0.9],\n",
    "])\n",
    "b_hat = torch.tensor([0.7])\n",
    "\n",
    "A_hat, b_hat"
   ]
  },
  {
   "cell_type": "markdown",
   "metadata": {},
   "source": [
    "创建初始的模型"
   ]
  },
  {
   "cell_type": "code",
   "execution_count": 4,
   "metadata": {},
   "outputs": [
    {
     "data": {
      "text/plain": [
       "Sequential(\n",
       "  (0): Linear(in_features=4, out_features=1, bias=True)\n",
       ")"
      ]
     },
     "execution_count": 4,
     "metadata": {},
     "output_type": "execute_result"
    }
   ],
   "source": [
    "layer = torch.nn.Linear(d_i, d_o, device=dev)\n",
    "model = torch.nn.Sequential(layer)\n",
    "model"
   ]
  },
  {
   "cell_type": "code",
   "execution_count": 5,
   "metadata": {},
   "outputs": [
    {
     "data": {
      "text/plain": [
       "(Parameter containing:\n",
       " tensor([[ 0.2524, -0.1093,  0.2488,  0.2231]], device='cuda:0',\n",
       "        requires_grad=True),\n",
       " Parameter containing:\n",
       " tensor([-0.2603], device='cuda:0', requires_grad=True))"
      ]
     },
     "execution_count": 5,
     "metadata": {},
     "output_type": "execute_result"
    }
   ],
   "source": [
    "layer.weight, layer.bias"
   ]
  },
  {
   "cell_type": "markdown",
   "metadata": {},
   "source": [
    "## 数据准备\n",
    "\n",
    "随机生成1000个样本数据。"
   ]
  },
  {
   "cell_type": "code",
   "execution_count": 6,
   "metadata": {},
   "outputs": [
    {
     "data": {
      "text/plain": [
       "(torch.Size([1000, 4]), torch.Size([1000, 1]))"
      ]
     },
     "execution_count": 6,
     "metadata": {},
     "output_type": "execute_result"
    }
   ],
   "source": [
    "num_samples = 1000\n",
    "X = torch.rand(num_samples, d_i) * 10.0\n",
    "y = torch.matmul(X, A_hat.T) + b_hat + torch.normal(0.0, 0.01, (num_samples, d_o))\n",
    "X = X.to(device=dev)\n",
    "y = y.to(device=dev)\n",
    "X.shape, y.shape"
   ]
  },
  {
   "cell_type": "markdown",
   "metadata": {},
   "source": [
    "构造数据集，并以10为单位对数据进行分批。"
   ]
  },
  {
   "cell_type": "code",
   "execution_count": 7,
   "metadata": {},
   "outputs": [
    {
     "data": {
      "text/plain": [
       "[tensor([[1.8960, 0.5356, 2.3351, 3.3987],\n",
       "         [1.4141, 0.6709, 5.6295, 3.4531],\n",
       "         [2.1134, 0.1226, 1.3275, 6.3274],\n",
       "         [7.0991, 7.6374, 9.2194, 7.3721],\n",
       "         [3.2078, 7.9251, 0.2291, 5.6411],\n",
       "         [8.0466, 4.7269, 1.0142, 7.3573],\n",
       "         [5.6678, 2.5008, 1.5807, 8.8860],\n",
       "         [8.8065, 1.9865, 0.7387, 6.6372],\n",
       "         [9.4163, 6.0235, 8.9035, 0.5926],\n",
       "         [0.3429, 1.9129, 9.6532, 0.4823]], device='cuda:0'),\n",
       " tensor([[19.5059],\n",
       "         [44.6729],\n",
       "         [ 8.1282],\n",
       "         [96.4854],\n",
       "         [25.0127],\n",
       "         [25.7107],\n",
       "         [19.1767],\n",
       "         [16.9334],\n",
       "         [98.0975],\n",
       "         [80.7498]], device='cuda:0')]"
      ]
     },
     "execution_count": 7,
     "metadata": {},
     "output_type": "execute_result"
    }
   ],
   "source": [
    "batch_size = 10\n",
    "\n",
    "ds = torch.utils.data.TensorDataset(X, y)\n",
    "data_iter = torch.utils.data.DataLoader(ds, batch_size, shuffle=True)\n",
    "\n",
    "next(iter(data_iter))"
   ]
  },
  {
   "cell_type": "markdown",
   "metadata": {},
   "source": [
    "## 训练"
   ]
  },
  {
   "cell_type": "markdown",
   "metadata": {},
   "source": [
    "首先，准备好损失函数，这里选择平均方差，相当于最小二乘。"
   ]
  },
  {
   "cell_type": "code",
   "execution_count": 8,
   "metadata": {},
   "outputs": [
    {
     "data": {
      "text/plain": [
       "MSELoss()"
      ]
     },
     "execution_count": 8,
     "metadata": {},
     "output_type": "execute_result"
    }
   ],
   "source": [
    "loss = torch.nn.MSELoss()\n",
    "loss"
   ]
  },
  {
   "cell_type": "markdown",
   "metadata": {},
   "source": [
    "接下来，准备训练器。"
   ]
  },
  {
   "cell_type": "code",
   "execution_count": 9,
   "metadata": {},
   "outputs": [
    {
     "data": {
      "text/plain": [
       "SGD (\n",
       "Parameter Group 0\n",
       "    dampening: 0\n",
       "    foreach: None\n",
       "    lr: 0.005\n",
       "    maximize: False\n",
       "    momentum: 0\n",
       "    nesterov: False\n",
       "    weight_decay: 0\n",
       ")"
      ]
     },
     "execution_count": 9,
     "metadata": {},
     "output_type": "execute_result"
    }
   ],
   "source": [
    "trainer = torch.optim.SGD(model.parameters(), lr=0.005)\n",
    "trainer"
   ]
  },
  {
   "cell_type": "code",
   "execution_count": 10,
   "metadata": {},
   "outputs": [
    {
     "name": "stdout",
     "output_type": "stream",
     "text": [
      "epoch 1, loss 0.016631\n",
      "epoch 2, loss 0.014189\n",
      "epoch 3, loss 0.012076\n",
      "epoch 4, loss 0.010374\n",
      "epoch 5, loss 0.009004\n",
      "epoch 6, loss 0.007600\n",
      "epoch 7, loss 0.006944\n",
      "epoch 8, loss 0.006149\n",
      "epoch 9, loss 0.004850\n",
      "epoch 10, loss 0.004352\n",
      "epoch 11, loss 0.003727\n",
      "epoch 12, loss 0.003133\n",
      "epoch 13, loss 0.002800\n",
      "epoch 14, loss 0.002427\n",
      "epoch 15, loss 0.002232\n",
      "epoch 16, loss 0.001757\n",
      "epoch 17, loss 0.001530\n",
      "epoch 18, loss 0.001328\n",
      "epoch 19, loss 0.001157\n",
      "epoch 20, loss 0.001025\n",
      "epoch 21, loss 0.000905\n",
      "epoch 22, loss 0.000955\n",
      "epoch 23, loss 0.000762\n",
      "epoch 24, loss 0.001103\n",
      "epoch 25, loss 0.000551\n",
      "epoch 26, loss 0.000540\n",
      "epoch 27, loss 0.000438\n",
      "epoch 28, loss 0.000379\n",
      "epoch 29, loss 0.000349\n",
      "epoch 30, loss 0.000317\n",
      "epoch 31, loss 0.000343\n",
      "epoch 32, loss 0.000261\n",
      "epoch 33, loss 0.000258\n",
      "epoch 34, loss 0.000275\n",
      "epoch 35, loss 0.000200\n"
     ]
    }
   ],
   "source": [
    "max_epochs = 1000\n",
    "threshold = 2e-4\n",
    "for epoch in range(max_epochs):\n",
    "    for features, labels in data_iter:\n",
    "        l = loss(model(features), labels)\n",
    "        trainer.zero_grad()\n",
    "        l.backward()\n",
    "        trainer.step()\n",
    "    l = loss(model(X), y)\n",
    "    print(f'epoch {epoch + 1}, loss {l:f}')\n",
    "    if l < threshold:\n",
    "        break"
   ]
  },
  {
   "cell_type": "code",
   "execution_count": 11,
   "metadata": {},
   "outputs": [
    {
     "data": {
      "text/plain": [
       "(Parameter containing:\n",
       " tensor([[ 1.2014,  3.0020,  7.7014, -0.8981]], device='cuda:0',\n",
       "        requires_grad=True),\n",
       " Parameter containing:\n",
       " tensor([0.6652], device='cuda:0', requires_grad=True))"
      ]
     },
     "execution_count": 11,
     "metadata": {},
     "output_type": "execute_result"
    }
   ],
   "source": [
    "layer.weight, layer.bias"
   ]
  },
  {
   "cell_type": "code",
   "execution_count": 12,
   "metadata": {},
   "outputs": [
    {
     "data": {
      "text/plain": [
       "(tensor([[ 1.2000,  3.0000,  7.7000, -0.9000]]), tensor([0.7000]))"
      ]
     },
     "execution_count": 12,
     "metadata": {},
     "output_type": "execute_result"
    }
   ],
   "source": [
    "A_hat, b_hat"
   ]
  },
  {
   "cell_type": "code",
   "execution_count": null,
   "metadata": {},
   "outputs": [],
   "source": []
  }
 ],
 "metadata": {
  "kernelspec": {
   "display_name": "Python 3.9.12 ('pytorch')",
   "language": "python",
   "name": "python3"
  },
  "language_info": {
   "codemirror_mode": {
    "name": "ipython",
    "version": 3
   },
   "file_extension": ".py",
   "mimetype": "text/x-python",
   "name": "python",
   "nbconvert_exporter": "python",
   "pygments_lexer": "ipython3",
   "version": "3.9.13"
  },
  "orig_nbformat": 4,
  "vscode": {
   "interpreter": {
    "hash": "7ac650165262f90a220c0d6f11cc32e6d2cfff423984774d41fc36868d505633"
   }
  }
 },
 "nbformat": 4,
 "nbformat_minor": 2
}
