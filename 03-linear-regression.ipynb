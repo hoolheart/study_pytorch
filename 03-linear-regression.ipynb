{
 "cells": [
  {
   "cell_type": "markdown",
   "metadata": {},
   "source": [
    "# 线性拟合\n",
    "\n",
    "线性拟合算是最为基础的机器学习模型，本文使用PyTorch的神经网络模块`torch.nn`搭建一个简单的线性拟合模型，并进行学习。"
   ]
  },
  {
   "cell_type": "code",
   "execution_count": 1,
   "metadata": {},
   "outputs": [
    {
     "name": "stdout",
     "output_type": "stream",
     "text": [
      "Import PyTorch V1.12.1\n"
     ]
    }
   ],
   "source": [
    "import os\n",
    "import sys\n",
    "\n",
    "import numpy as np\n",
    "import pandas as pd\n",
    "import matplotlib.pyplot as plt\n",
    "\n",
    "import torch\n",
    "print(f'Import PyTorch V{torch.__version__}')"
   ]
  },
  {
   "cell_type": "code",
   "execution_count": 2,
   "metadata": {},
   "outputs": [
    {
     "name": "stdout",
     "output_type": "stream",
     "text": [
      "Use device cpu\n"
     ]
    }
   ],
   "source": [
    "dev = torch.device(type='cuda') if torch.cuda.is_available() else torch.device(type='cpu')\n",
    "print(f'Use device {dev}')"
   ]
  },
  {
   "cell_type": "markdown",
   "metadata": {},
   "source": [
    "## 模型\n",
    "\n",
    "线性拟合的模型如下所示：\n",
    "\n",
    "$$y = x A^T + b$$\n",
    "\n",
    "其中$x$为输入数据，$y$为输出数据，$A$和$b$是需要拟合的模型参数，\n",
    "令$d_i$和$d_o$分别代表输入和输出数据的维度，则$A$维度为$d_o \\times d_i$，$b$维度为$d_o$。"
   ]
  },
  {
   "cell_type": "markdown",
   "metadata": {},
   "source": [
    "这里假设问题的输入、输出维度分别为4和2，正确的解如下所示。"
   ]
  },
  {
   "cell_type": "code",
   "execution_count": 3,
   "metadata": {},
   "outputs": [
    {
     "data": {
      "text/plain": [
       "(tensor([[ 1.2000,  3.0000,  7.7000, -0.9000]]), tensor([0.7000]))"
      ]
     },
     "execution_count": 3,
     "metadata": {},
     "output_type": "execute_result"
    }
   ],
   "source": [
    "d_i, d_o = 4, 1\n",
    "A_hat = torch.tensor([\n",
    "    [1.2, 3.0, 7.7, -0.9],\n",
    "])\n",
    "b_hat = torch.tensor([0.7])\n",
    "\n",
    "A_hat, b_hat"
   ]
  },
  {
   "cell_type": "markdown",
   "metadata": {},
   "source": [
    "创建初始的模型"
   ]
  },
  {
   "cell_type": "code",
   "execution_count": 4,
   "metadata": {},
   "outputs": [
    {
     "data": {
      "text/plain": [
       "Sequential(\n",
       "  (0): Linear(in_features=4, out_features=1, bias=True)\n",
       ")"
      ]
     },
     "execution_count": 4,
     "metadata": {},
     "output_type": "execute_result"
    }
   ],
   "source": [
    "layer = torch.nn.Linear(d_i, d_o, device=dev)\n",
    "model = torch.nn.Sequential(layer)\n",
    "model"
   ]
  },
  {
   "cell_type": "code",
   "execution_count": 5,
   "metadata": {},
   "outputs": [
    {
     "data": {
      "text/plain": [
       "(Parameter containing:\n",
       " tensor([[ 0.3003, -0.0493,  0.0921,  0.4552]], requires_grad=True),\n",
       " Parameter containing:\n",
       " tensor([-0.2184], requires_grad=True))"
      ]
     },
     "execution_count": 5,
     "metadata": {},
     "output_type": "execute_result"
    }
   ],
   "source": [
    "layer.weight, layer.bias"
   ]
  },
  {
   "cell_type": "markdown",
   "metadata": {},
   "source": [
    "## 数据准备\n",
    "\n",
    "随机生成1000个样本数据。"
   ]
  },
  {
   "cell_type": "code",
   "execution_count": 6,
   "metadata": {},
   "outputs": [
    {
     "data": {
      "text/plain": [
       "(torch.Size([1000, 4]), torch.Size([1000, 1]))"
      ]
     },
     "execution_count": 6,
     "metadata": {},
     "output_type": "execute_result"
    }
   ],
   "source": [
    "num_samples = 1000\n",
    "X = torch.rand(num_samples, d_i) * 10.0\n",
    "y = torch.matmul(X, A_hat.T) + b_hat + torch.normal(0.0, 0.01, (num_samples, d_o))\n",
    "X = X.to(device=dev)\n",
    "y = y.to(device=dev)\n",
    "X.shape, y.shape"
   ]
  },
  {
   "cell_type": "markdown",
   "metadata": {},
   "source": [
    "构造数据集，并以10为单位对数据进行分批。"
   ]
  },
  {
   "cell_type": "code",
   "execution_count": 7,
   "metadata": {},
   "outputs": [
    {
     "data": {
      "text/plain": [
       "[tensor([[8.0675, 8.3224, 8.1355, 1.0108],\n",
       "         [1.5369, 0.0459, 2.2693, 0.9940],\n",
       "         [0.8437, 2.0826, 0.6098, 1.9557],\n",
       "         [5.3063, 8.3553, 5.9765, 5.4579],\n",
       "         [4.7617, 2.1485, 5.0449, 7.2023],\n",
       "         [7.5006, 6.0990, 3.2693, 0.0385],\n",
       "         [9.8372, 7.1147, 0.9968, 3.5329],\n",
       "         [5.0643, 2.5015, 7.1231, 9.6633],\n",
       "         [1.6878, 0.4135, 1.9059, 4.4767],\n",
       "         [3.3105, 4.7690, 4.5690, 0.2373]]),\n",
       " tensor([[97.0737],\n",
       "         [19.2454],\n",
       "         [10.8899],\n",
       "         [73.2308],\n",
       "         [45.2150],\n",
       "         [53.1318],\n",
       "         [38.3513],\n",
       "         [60.4241],\n",
       "         [14.6182],\n",
       "         [53.9354]])]"
      ]
     },
     "execution_count": 7,
     "metadata": {},
     "output_type": "execute_result"
    }
   ],
   "source": [
    "batch_size = 10\n",
    "\n",
    "ds = torch.utils.data.TensorDataset(X, y)\n",
    "data_iter = torch.utils.data.DataLoader(ds, batch_size, shuffle=True)\n",
    "\n",
    "next(iter(data_iter))"
   ]
  },
  {
   "cell_type": "markdown",
   "metadata": {},
   "source": [
    "## 训练"
   ]
  },
  {
   "cell_type": "markdown",
   "metadata": {},
   "source": [
    "首先，准备好损失函数，这里选择平均方差，相当于最小二乘。"
   ]
  },
  {
   "cell_type": "code",
   "execution_count": 8,
   "metadata": {},
   "outputs": [
    {
     "data": {
      "text/plain": [
       "MSELoss()"
      ]
     },
     "execution_count": 8,
     "metadata": {},
     "output_type": "execute_result"
    }
   ],
   "source": [
    "loss = torch.nn.MSELoss()\n",
    "loss"
   ]
  },
  {
   "cell_type": "markdown",
   "metadata": {},
   "source": [
    "接下来，准备训练器。"
   ]
  },
  {
   "cell_type": "code",
   "execution_count": 9,
   "metadata": {},
   "outputs": [
    {
     "data": {
      "text/plain": [
       "SGD (\n",
       "Parameter Group 0\n",
       "    dampening: 0\n",
       "    foreach: None\n",
       "    lr: 0.005\n",
       "    maximize: False\n",
       "    momentum: 0\n",
       "    nesterov: False\n",
       "    weight_decay: 0\n",
       ")"
      ]
     },
     "execution_count": 9,
     "metadata": {},
     "output_type": "execute_result"
    }
   ],
   "source": [
    "trainer = torch.optim.SGD(model.parameters(), lr=0.005)\n",
    "trainer"
   ]
  },
  {
   "cell_type": "code",
   "execution_count": 10,
   "metadata": {},
   "outputs": [
    {
     "name": "stdout",
     "output_type": "stream",
     "text": [
      "epoch 1, loss 0.014124\n",
      "epoch 2, loss 0.011138\n",
      "epoch 3, loss 0.009312\n",
      "epoch 4, loss 0.012243\n",
      "epoch 5, loss 0.007614\n",
      "epoch 6, loss 0.008037\n",
      "epoch 7, loss 0.005518\n",
      "epoch 8, loss 0.004594\n",
      "epoch 9, loss 0.004243\n",
      "epoch 10, loss 0.003974\n",
      "epoch 11, loss 0.003909\n",
      "epoch 12, loss 0.002859\n",
      "epoch 13, loss 0.002313\n",
      "epoch 14, loss 0.002370\n",
      "epoch 15, loss 0.001821\n",
      "epoch 16, loss 0.001612\n",
      "epoch 17, loss 0.001380\n",
      "epoch 18, loss 0.001469\n",
      "epoch 19, loss 0.001048\n",
      "epoch 20, loss 0.000911\n",
      "epoch 21, loss 0.000926\n",
      "epoch 22, loss 0.000712\n",
      "epoch 23, loss 0.000686\n",
      "epoch 24, loss 0.000561\n",
      "epoch 25, loss 0.000516\n",
      "epoch 26, loss 0.000472\n",
      "epoch 27, loss 0.000483\n",
      "epoch 28, loss 0.000389\n",
      "epoch 29, loss 0.000388\n",
      "epoch 30, loss 0.000311\n",
      "epoch 31, loss 0.000303\n",
      "epoch 32, loss 0.000255\n",
      "epoch 33, loss 0.000233\n",
      "epoch 34, loss 0.000244\n",
      "epoch 35, loss 0.000204\n",
      "epoch 36, loss 0.000190\n"
     ]
    }
   ],
   "source": [
    "max_epochs = 1000\n",
    "threshold = 2e-4\n",
    "for epoch in range(max_epochs):\n",
    "    for features, labels in data_iter:\n",
    "        l = loss(model(features), labels)\n",
    "        trainer.zero_grad()\n",
    "        l.backward()\n",
    "        trainer.step()\n",
    "    l = loss(model(X), y)\n",
    "    print(f'epoch {epoch + 1}, loss {l:f}')\n",
    "    if l < threshold:\n",
    "        break"
   ]
  },
  {
   "cell_type": "code",
   "execution_count": 11,
   "metadata": {},
   "outputs": [
    {
     "data": {
      "text/plain": [
       "(Parameter containing:\n",
       " tensor([[ 1.2019,  3.0014,  7.7013, -0.8983]], requires_grad=True),\n",
       " Parameter containing:\n",
       " tensor([0.6664], requires_grad=True))"
      ]
     },
     "execution_count": 11,
     "metadata": {},
     "output_type": "execute_result"
    }
   ],
   "source": [
    "layer.weight, layer.bias"
   ]
  },
  {
   "cell_type": "code",
   "execution_count": 12,
   "metadata": {},
   "outputs": [
    {
     "data": {
      "text/plain": [
       "(tensor([[ 1.2000,  3.0000,  7.7000, -0.9000]]), tensor([0.7000]))"
      ]
     },
     "execution_count": 12,
     "metadata": {},
     "output_type": "execute_result"
    }
   ],
   "source": [
    "A_hat, b_hat"
   ]
  },
  {
   "cell_type": "code",
   "execution_count": null,
   "metadata": {},
   "outputs": [],
   "source": []
  }
 ],
 "metadata": {
  "kernelspec": {
   "display_name": "pytorch",
   "language": "python",
   "name": "pytorch"
  },
  "language_info": {
   "codemirror_mode": {
    "name": "ipython",
    "version": 3
   },
   "file_extension": ".py",
   "mimetype": "text/x-python",
   "name": "python",
   "nbconvert_exporter": "python",
   "pygments_lexer": "ipython3",
   "version": "3.9.16"
  },
  "orig_nbformat": 4,
  "vscode": {
   "interpreter": {
    "hash": "7ac650165262f90a220c0d6f11cc32e6d2cfff423984774d41fc36868d505633"
   }
  }
 },
 "nbformat": 4,
 "nbformat_minor": 2
}
